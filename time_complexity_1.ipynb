{
  "nbformat": 4,
  "nbformat_minor": 0,
  "metadata": {
    "colab": {
      "provenance": [],
      "authorship_tag": "ABX9TyPNbqRXCf47iDVzXm3pLM4O",
      "include_colab_link": true
    },
    "kernelspec": {
      "name": "python3",
      "display_name": "Python 3"
    },
    "language_info": {
      "name": "python"
    }
  },
  "cells": [
    {
      "cell_type": "markdown",
      "metadata": {
        "id": "view-in-github",
        "colab_type": "text"
      },
      "source": [
        "<a href=\"https://colab.research.google.com/github/FahmidaNourin/design_and_analysis_of_algorithms/blob/main/time_complexity_1.ipynb\" target=\"_parent\"><img src=\"https://colab.research.google.com/assets/colab-badge.svg\" alt=\"Open In Colab\"/></a>"
      ]
    },
    {
      "cell_type": "markdown",
      "source": [
        "#Tower_of_hanoi"
      ],
      "metadata": {
        "id": "rAqcxuH94Hjv"
      }
    },
    {
      "cell_type": "code",
      "execution_count": null,
      "metadata": {
        "id": "43owDSZ5gBvw"
      },
      "outputs": [],
      "source": [
        "def hanoi(num_of_disc,src,dst,auxi):\n",
        "  if(num_of_disc==1):\n",
        "    print(\"Move disc from\",src,\"to\",dst)\n",
        "  else:\n",
        "    hanoi(num_of_disc - 1,src,auxi,dst)\n",
        "    hanoi(1,src,dst,auxi)\n",
        "    hanoi(num_of_disc - 1,auxi,dst,src)\n",
        "\n",
        "\n"
      ]
    },
    {
      "cell_type": "code",
      "source": [
        "hanoi(4,'A','B','C')"
      ],
      "metadata": {
        "colab": {
          "base_uri": "https://localhost:8080/"
        },
        "id": "aMyFSnAQ7rLo",
        "outputId": "e8864fdd-6029-4269-ef96-92ddf8ff706d"
      },
      "execution_count": null,
      "outputs": [
        {
          "output_type": "stream",
          "name": "stdout",
          "text": [
            "Move disc from A to C\n",
            "Move disc from A to B\n",
            "Move disc from C to B\n",
            "Move disc from A to C\n",
            "Move disc from B to A\n",
            "Move disc from B to C\n",
            "Move disc from A to C\n",
            "Move disc from A to B\n",
            "Move disc from C to B\n",
            "Move disc from C to A\n",
            "Move disc from B to A\n",
            "Move disc from C to B\n",
            "Move disc from A to C\n",
            "Move disc from A to B\n",
            "Move disc from C to B\n"
          ]
        }
      ]
    }
  ]
}